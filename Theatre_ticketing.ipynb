{
 "cells": [
  {
   "cell_type": "code",
   "execution_count": 1,
   "id": "5f446322-cdf7-41d0-bf3a-d292c2555c08",
   "metadata": {},
   "outputs": [],
   "source": [
    "\"\"\"Imports go here\"\"\"\n",
    "import sys"
   ]
  },
  {
   "cell_type": "code",
   "execution_count": 6,
   "id": "81708f9e-ff85-418c-a485-ca6ec9efc9ae",
   "metadata": {
    "tags": []
   },
   "outputs": [],
   "source": [
    "def ticket_system():\n",
    "    price=0\n",
    "    disc=0\n",
    "    total=0\n",
    "    pop=0\n",
    "    disc_amt=0\n",
    "    disc_list1=[]\n",
    "    print(\"Welcome to Vimal Theatres\")\n",
    "    print(\"The Movies currently playing are\\n1.Doctor\\n2.Kalavani\\n3.Venom\\nPlease select the movie you wanna watch.\")\n",
    "    movie=str(input())\n",
    "    if movie=='1' or movie=='2' or movie=='3':\n",
    "        pass\n",
    "    else:\n",
    "        sys.exit(\"Please select a Valid Movie..!\")\n",
    "    print(\"We have a combo offer currently\\nThe combo offers are:\\n1. 3 A class tickets + 1 popcorn = 15% discount\\n2. 5 A class tickets + 2 popcorns = 30% discount\")\n",
    "    print(\"Please Specify the Ticket class\\nA-Rs.210\\nB-Rs.150\\nC-Rs.90\")\n",
    "    class_str=str(input())\n",
    "    cs=class_str.upper()\n",
    "    disc_list1.append(cs)\n",
    "    if cs=='A' or cs=='B' or cs=='C':\n",
    "        pass\n",
    "    else:\n",
    "        sys.exit(\"Enter a valid Class..!\")\n",
    "        \n",
    "    print(\"Please Enter the Total Number of Tickets\")\n",
    "    ticket=int(input())\n",
    "    disc_list1.append(ticket)\n",
    "    if cs=='A' :\n",
    "        price=ticket*210\n",
    "    if cs=='B' :\n",
    "        #ticket=int(input())\n",
    "        price=ticket*150\n",
    "    if cs=='C' :\n",
    "        #ticket=int(input())\n",
    "        price=ticket*90 \n",
    "    \n",
    "    \n",
    "    print(f'Your subtotal is Rs.{price}\\nWould you like to add popcorn-Rs.100 to your order for more delightful experience..!\\nType 1 for YES and 2 for NO') \n",
    "    pop_decide=int(input())\n",
    "    if pop_decide==1:\n",
    "        print(\"Please enter the Number of popcorns you need!\")\n",
    "        pop=int(input())\n",
    "        pop_price=pop*100\n",
    "        price+=pop_price\n",
    "    else:\n",
    "        print(price)\n",
    "    if 'A' in disc_list1:\n",
    "        if 3 in disc_list1:\n",
    "            if pop==1:\n",
    "                disc=15/100\n",
    "                \n",
    "        if 5 in disc_list1:\n",
    "            if pop>=2:\n",
    "                disc=30/100\n",
    "    else:\n",
    "        pass\n",
    "    disc_amt=price*disc\n",
    "    total=price-disc_amt\n",
    "    print(f'Your total is Rs.{total}!')\n",
    "    print(\"Have a nice day :) \")"
   ]
  },
  {
   "cell_type": "code",
   "execution_count": 8,
   "id": "c3d6d13d-76bb-4e77-83d6-32712fa3cfa5",
   "metadata": {},
   "outputs": [
    {
     "name": "stdout",
     "output_type": "stream",
     "text": [
      "Welcome to Vimal Theatres\n",
      "The Movies currently playing are\n",
      "1.Doctor\n",
      "2.Kalavani\n",
      "3.Venom\n",
      "Please select the movie you wanna watch.!\n"
     ]
    },
    {
     "name": "stdin",
     "output_type": "stream",
     "text": [
      " 1\n"
     ]
    },
    {
     "name": "stdout",
     "output_type": "stream",
     "text": [
      "We have a combo offer currently\n",
      "The combo offers are:\n",
      "1. 3 A class tickets + 1 popcorn = 15% discount\n",
      "2. 5 A class tickets + 2 popcorns = 30% discount\n",
      "Please Specify the Ticket class\n",
      "A-Rs.210\n",
      "B-Rs.150\n",
      "C-Rs.90\n"
     ]
    },
    {
     "name": "stdin",
     "output_type": "stream",
     "text": [
      " a\n"
     ]
    },
    {
     "name": "stdout",
     "output_type": "stream",
     "text": [
      "Please Enter the Total Number of Tickets\n"
     ]
    },
    {
     "name": "stdin",
     "output_type": "stream",
     "text": [
      " 3\n"
     ]
    },
    {
     "name": "stdout",
     "output_type": "stream",
     "text": [
      "Your subtotal is 630, Would you like to add popcorn-Rs.100 to your order for more delightful experience..!\n",
      "Type 1 for YES and 2 for NO\n"
     ]
    },
    {
     "name": "stdin",
     "output_type": "stream",
     "text": [
      " 1\n"
     ]
    },
    {
     "name": "stdout",
     "output_type": "stream",
     "text": [
      "Please enter the Number of popcorns you need!\n"
     ]
    },
    {
     "name": "stdin",
     "output_type": "stream",
     "text": [
      " 1\n"
     ]
    },
    {
     "name": "stdout",
     "output_type": "stream",
     "text": [
      "Your total is Rs.620.5!\n",
      "Have a nice day :) \n"
     ]
    }
   ],
   "source": [
    "\"\"\"Function call\"\"\"\n",
    "ticket_system()"
   ]
  },
  {
   "cell_type": "code",
   "execution_count": null,
   "id": "761e3aa0-13fd-4f4e-ac46-61243fa92577",
   "metadata": {},
   "outputs": [],
   "source": []
  }
 ],
 "metadata": {
  "kernelspec": {
   "display_name": "Python 3",
   "language": "python",
   "name": "python3"
  },
  "language_info": {
   "codemirror_mode": {
    "name": "ipython",
    "version": 3
   },
   "file_extension": ".py",
   "mimetype": "text/x-python",
   "name": "python",
   "nbconvert_exporter": "python",
   "pygments_lexer": "ipython3",
   "version": "3.8.8"
  }
 },
 "nbformat": 4,
 "nbformat_minor": 5
}
